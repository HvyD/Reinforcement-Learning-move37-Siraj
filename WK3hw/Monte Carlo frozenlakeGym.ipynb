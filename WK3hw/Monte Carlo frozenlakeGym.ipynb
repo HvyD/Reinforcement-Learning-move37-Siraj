{
 "cells": [
  {
   "cell_type": "code",
   "execution_count": 7,
   "metadata": {},
   "outputs": [],
   "source": [
    "import gym\n",
    "import numpy as np\n",
    "import operator\n",
    "from IPython.display import clear_output\n",
    "from time import sleep\n",
    "from gym.spaces.tuple_space import Tuple\n",
    "from gym.envs.registration import register\n",
    "from gym import wrappers\n",
    "import random\n",
    "import itertools\n",
    "import tqdm"
   ]
  },
  {
   "cell_type": "markdown",
   "metadata": {},
   "source": [
    "## Create Environment "
   ]
  },
  {
   "cell_type": "code",
   "execution_count": 2,
   "metadata": {},
   "outputs": [],
   "source": [
    "register(\n",
    "    id='FrozenLakeNotSlippery-v0',\n",
    "    entry_point='gym.envs.toy_text:FrozenLakeEnv',\n",
    "    kwargs={'map_name' : '4x4', 'is_slippery': False},\n",
    "    max_episode_steps=200\n",
    ")\n",
    "\n",
    "register(\n",
    "    id='FrozenLakeNotSlippery8x8-v0',\n",
    "    entry_point='gym.envs.toy_text:FrozenLakeEnv',\n",
    "    kwargs={'map_name' : '8x8', 'is_slippery': False},\n",
    "    max_episode_steps=200\n",
    ")\n",
    "\n",
    "\n",
    "fl_slippery = {\n",
    "    'small': 'FrozenLake-v0',\n",
    "    'big': 'FrozenLake8x8-v0'\n",
    "}\n",
    "\n",
    "fl_not_slippery = {\n",
    "    'small': 'FrozenLakeNotSlippery-v0',\n",
    "    'big': 'FrozenLakeNotSlippery8x8-v0'\n",
    "}\n",
    "\n",
    "\n",
    "def create_environment(slippery=False, big=False):\n",
    "    if slippery:\n",
    "        env = gym.make(fl_slippery['big'] if big else fl_slippery['small'])\n",
    "    else:\n",
    "        env = gym.make(fl_not_slippery['big'] if big else fl_not_slippery['small'])\n",
    "    env.reset()\n",
    "    return env\n",
    "\n",
    "def create_random_policy(env):\n",
    "    policy = {}\n",
    "    for key in range(0, env.observation_space.n):\n",
    "        current_end = 0\n",
    "        p = {}\n",
    "        for action in range(0, env.action_space.n):\n",
    "            p[action] = 1 / env.action_space.n\n",
    "        policy[key] = p\n",
    "    return policy\n",
    "\n",
    "\n",
    "def create_state_action_dictionary(env, policy):\n",
    "    Q = {}\n",
    "    for key in policy.keys():\n",
    "        Q[key] = {a: 0.0 for a in range(0, env.action_space.n)}\n",
    "    return Q    \n",
    "\n",
    "def run_game(env, policy, display=True):\n",
    "    env.reset()\n",
    "    episode = []\n",
    "    finished = False\n",
    "    \n",
    "    while not finished:\n",
    "        s = env.env.s\n",
    "            \n",
    "        if display:\n",
    "            clear_output(True)\n",
    "            env.render()\n",
    "            sleep(0.1)\n",
    "\n",
    "        timestep = []\n",
    "        timestep.append(s)\n",
    "        \n",
    "        n = random.uniform(0, sum(policy[s].values()))\n",
    "        top_range = 0\n",
    "        for prob in policy[s].items():\n",
    "            top_range += prob[1]\n",
    "            if n < top_range:\n",
    "                action = prob[0]\n",
    "                break   \n",
    "        \n",
    "        state, reward, finished, info =  env.step(action)\n",
    "        timestep.append(action)\n",
    "        timestep.append(reward)\n",
    "        \n",
    "        episode.append(timestep)\n",
    "        \n",
    "    if display:\n",
    "        clear_output(True)\n",
    "        env.render()\n",
    "        sleep(0.05)\n",
    "    \n",
    "    return episode\n",
    "\n",
    "def test_policy(policy, env):\n",
    "    wins = 0\n",
    "    r = 100\n",
    "    for i in range(r):\n",
    "        w = run_game(env, policy, display=False)[-1][-1]\n",
    "        if w == 1:\n",
    "            wins += 1\n",
    "    return wins / r\n"
   ]
  },
  {
   "cell_type": "markdown",
   "metadata": {},
   "source": [
    "### Build Monte Carlo Policy"
   ]
  },
  {
   "cell_type": "code",
   "execution_count": 3,
   "metadata": {},
   "outputs": [],
   "source": [
    "def monte_carlo(env, episodes=100, policy=None, epsilon=0.01):\n",
    "    if not policy:\n",
    "        policy = create_random_policy(env)  \n",
    "        \n",
    "    Q = create_state_action_dictionary(env, policy) \n",
    "    returns = {} \n",
    "    \n",
    "    for _ in range(episodes): \n",
    "        G = 0 \n",
    "        episode = run_game(env=env, policy=policy, display=False) \n",
    "        for i in reversed(range(0, len(episode))): \n",
    "            s_t, a_t, r_t = episode[i] \n",
    "            G += r_t \n",
    "            \n",
    "            if not state_action in [(x[0], x[1]) for x in episode[0:i]]: \n",
    "                if returns.get(state_action): \n",
    "                    returns[state_action].append(G)\n",
    "                else:\n",
    "                    returns[state_action] = [G]   \n",
    "                    \n",
    "                Q[s_t][a_t] = sum(returns[state_action]) / len(returns[state_action]) \n",
    "                \n",
    "                Q_list = list(map(lambda x: x[1], Q[s_t].items())) \n",
    "                indices = [i for i, x in enumerate(Q_list) if x == max(Q_list)]\n",
    "                max_Q = random.choice(indices)\n",
    "                \n",
    "                A_star = max_Q \n",
    "                \n",
    "                for a in policy[s_t].items(): \n",
    "                    if a[0] == A_star:\n",
    "                        policy[s_t][a[0]] = 1 - epsilon + (epsilon / abs(sum(policy[s_t].values())))\n",
    "                    else:\n",
    "                        policy[s_t][a[0]] = (epsilon / abs(sum(policy[s_t].values())))\n",
    "\n",
    "    return policy"
   ]
  },
  {
   "cell_type": "markdown",
   "metadata": {},
   "source": [
    "##### Slippery"
   ]
  },
  {
   "cell_type": "code",
   "execution_count": 4,
   "metadata": {},
   "outputs": [
    {
     "name": "stdout",
     "output_type": "stream",
     "text": [
      "  (Right)\n",
      "SFFF\n",
      "FHFH\n",
      "FFFH\n",
      "HFF\u001b[41mG\u001b[0m\n"
     ]
    },
    {
     "data": {
      "text/plain": [
       "[[0, 1, 0.0],\n",
       " [4, 1, 0.0],\n",
       " [8, 2, 0.0],\n",
       " [9, 2, 0.0],\n",
       " [10, 1, 0.0],\n",
       " [14, 2, 1.0]]"
      ]
     },
     "execution_count": 4,
     "metadata": {},
     "output_type": "execute_result"
    }
   ],
   "source": [
    "env = create_environment(slippery=False, big=False)\n",
    "policy = monte_carlo_e_soft(env, episodes=200)\n",
    "test_policy(policy, env)\n",
    "\n",
    "run_game(env, policy)"
   ]
  },
  {
   "cell_type": "markdown",
   "metadata": {},
   "source": [
    "#### Not Slippery"
   ]
  },
  {
   "cell_type": "code",
   "execution_count": 6,
   "metadata": {},
   "outputs": [
    {
     "name": "stdout",
     "output_type": "stream",
     "text": [
      "  (Down)\n",
      "SFFF\n",
      "FHFH\n",
      "FFFH\n",
      "HFF\u001b[41mG\u001b[0m\n"
     ]
    },
    {
     "data": {
      "text/plain": [
       "[[0, 1, 0.0],\n",
       " [1, 3, 0.0],\n",
       " [1, 3, 0.0],\n",
       " [2, 3, 0.0],\n",
       " [1, 3, 0.0],\n",
       " [0, 1, 0.0],\n",
       " [4, 0, 0.0],\n",
       " [4, 0, 0.0],\n",
       " [4, 0, 0.0],\n",
       " [8, 3, 0.0],\n",
       " [8, 3, 0.0],\n",
       " [4, 0, 0.0],\n",
       " [4, 0, 0.0],\n",
       " [4, 0, 0.0],\n",
       " [8, 3, 0.0],\n",
       " [9, 1, 0.0],\n",
       " [13, 2, 0.0],\n",
       " [13, 2, 0.0],\n",
       " [9, 1, 0.0],\n",
       " [13, 2, 0.0],\n",
       " [13, 2, 0.0],\n",
       " [13, 2, 0.0],\n",
       " [13, 2, 0.0],\n",
       " [14, 1, 1.0]]"
      ]
     },
     "execution_count": 6,
     "metadata": {},
     "output_type": "execute_result"
    }
   ],
   "source": [
    "env = create_environment(slippery=True, big=False)\n",
    "policy = monte_carlo_e_soft(env, episodes=500)\n",
    "test_policy(policy, env)\n",
    "\n",
    "run_game(env, policy)"
   ]
  },
  {
   "cell_type": "code",
   "execution_count": null,
   "metadata": {},
   "outputs": [],
   "source": []
  }
 ],
 "metadata": {
  "kernelspec": {
   "display_name": "Python 3",
   "language": "python",
   "name": "python3"
  },
  "language_info": {
   "codemirror_mode": {
    "name": "ipython",
    "version": 3
   },
   "file_extension": ".py",
   "mimetype": "text/x-python",
   "name": "python",
   "nbconvert_exporter": "python",
   "pygments_lexer": "ipython3",
   "version": "3.6.5"
  }
 },
 "nbformat": 4,
 "nbformat_minor": 2
}
